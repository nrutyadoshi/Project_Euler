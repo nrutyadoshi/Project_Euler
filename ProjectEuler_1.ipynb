{
  "nbformat": 4,
  "nbformat_minor": 0,
  "metadata": {
    "colab": {
      "name": "ProjectEuler_1.ipynb",
      "provenance": [],
      "collapsed_sections": [],
      "include_colab_link": true
    },
    "kernelspec": {
      "name": "python3",
      "display_name": "Python 3"
    },
    "accelerator": "GPU"
  },
  "cells": [
    {
      "cell_type": "markdown",
      "metadata": {
        "id": "view-in-github",
        "colab_type": "text"
      },
      "source": [
        "<a href=\"https://colab.research.google.com/github/nrutyadoshi/Project_Euler/blob/master/ProjectEuler_1.ipynb\" target=\"_parent\"><img src=\"https://colab.research.google.com/assets/colab-badge.svg\" alt=\"Open In Colab\"/></a>"
      ]
    },
    {
      "cell_type": "markdown",
      "metadata": {
        "id": "--DKo96NHdWl",
        "colab_type": "text"
      },
      "source": [
        "Multiples of 3 and 5"
      ]
    },
    {
      "cell_type": "markdown",
      "metadata": {
        "id": "cwcN4UhlXxmj",
        "colab_type": "text"
      },
      "source": [
        "If we list all the natural numbers below 10 that are multiples of 3 or 5, we get 3, 5, 6 and 9. The sum of these multiples is 23.\n",
        "\n",
        "Find the sum of all the multiples of 3 or 5 below 1000."
      ]
    },
    {
      "cell_type": "code",
      "metadata": {
        "id": "t31nFnuQHY8A",
        "colab_type": "code",
        "colab": {}
      },
      "source": [
        "def sum_of_multiples(n):\n",
        "  multiples = []\n",
        "  sum = 0\n",
        "  for i in range(1,n):\n",
        "    if(i%3==0 or i%5==0):\n",
        "      multiples.append(i)\n",
        "      sum +=i\n",
        "  return (sum)"
      ],
      "execution_count": 0,
      "outputs": []
    },
    {
      "cell_type": "code",
      "metadata": {
        "id": "NjG_FYv3EoCe",
        "colab_type": "code",
        "outputId": "5d32629b-dbe4-43f7-f1f0-6c97e2fc7b6d",
        "colab": {
          "base_uri": "https://localhost:8080/",
          "height": 33
        }
      },
      "source": [
        "print(sum_of_multiples(10))"
      ],
      "execution_count": 0,
      "outputs": [
        {
          "output_type": "stream",
          "text": [
            "23\n"
          ],
          "name": "stdout"
        }
      ]
    },
    {
      "cell_type": "code",
      "metadata": {
        "id": "ppc-R2hBFmr8",
        "colab_type": "code",
        "outputId": "eb914f10-8b1d-416c-da6d-01298a00dc9a",
        "colab": {
          "base_uri": "https://localhost:8080/",
          "height": 33
        }
      },
      "source": [
        "print(\"Sum of multiples of 3 or 5 below 1000: \",sum_of_multiples(1000))"
      ],
      "execution_count": 0,
      "outputs": [
        {
          "output_type": "stream",
          "text": [
            "Sum of multiples of 3 or 5 below 1000:  233168\n"
          ],
          "name": "stdout"
        }
      ]
    },
    {
      "cell_type": "code",
      "metadata": {
        "id": "V5syqTLwFzjD",
        "colab_type": "code",
        "colab": {}
      },
      "source": [
        ""
      ],
      "execution_count": 0,
      "outputs": []
    }
  ]
}