{
  "nbformat": 4,
  "nbformat_minor": 0,
  "metadata": {
    "colab": {
      "name": "ProjectEuler_3.ipynb",
      "provenance": [],
      "collapsed_sections": [],
      "include_colab_link": true
    },
    "kernelspec": {
      "name": "python3",
      "display_name": "Python 3"
    },
    "accelerator": "GPU"
  },
  "cells": [
    {
      "cell_type": "markdown",
      "metadata": {
        "id": "view-in-github",
        "colab_type": "text"
      },
      "source": [
        "<a href=\"https://colab.research.google.com/github/nrutyadoshi/Project_Euler/blob/master/ProjectEuler_3.ipynb\" target=\"_parent\"><img src=\"https://colab.research.google.com/assets/colab-badge.svg\" alt=\"Open In Colab\"/></a>"
      ]
    },
    {
      "cell_type": "markdown",
      "metadata": {
        "id": "GcI1J2XBPuUJ",
        "colab_type": "text"
      },
      "source": [
        "Largest prime factor"
      ]
    },
    {
      "cell_type": "markdown",
      "metadata": {
        "id": "ohMY-UhmXT5F",
        "colab_type": "text"
      },
      "source": [
        "The prime factors of 13195 are 5, 7, 13 and 29.\n",
        "\n",
        "What is the largest prime factor of the number 600851475143 ?"
      ]
    },
    {
      "cell_type": "code",
      "metadata": {
        "id": "BNFfrrpPcQ2d",
        "colab_type": "code",
        "colab": {}
      },
      "source": [
        "import math"
      ],
      "execution_count": 0,
      "outputs": []
    },
    {
      "cell_type": "code",
      "metadata": {
        "id": "iw_nH8qJRp88",
        "colab_type": "code",
        "colab": {}
      },
      "source": [
        "def prime_nos(n):\n",
        "  prime = [2]\n",
        "  for i in range(3,int(math.sqrt(n)) + 1):\n",
        "    c=1\n",
        "    for j in range(2,n):\n",
        "      if(i%j==0 and i!=j):\n",
        "        c=0\n",
        "    if(c==1):\n",
        "      prime.append(i)\n",
        "  factor = []\n",
        "  no=n\n",
        "  while(n!=1):\n",
        "    for k in range(2,int(math.sqrt(no)) + 1):\n",
        "      if(n%k==0):\n",
        "        factor.append(k)\n",
        "        n=n/k\n",
        "  return (max(factor))"
      ],
      "execution_count": 0,
      "outputs": []
    },
    {
      "cell_type": "code",
      "metadata": {
        "id": "vq-AVbXo1-6I",
        "colab_type": "code",
        "outputId": "1b1431d4-d57d-470d-a614-bdd5c81fd444",
        "colab": {
          "base_uri": "https://localhost:8080/",
          "height": 33
        }
      },
      "source": [
        "prime_nos(13195)"
      ],
      "execution_count": 0,
      "outputs": [
        {
          "output_type": "execute_result",
          "data": {
            "text/plain": [
              "29"
            ]
          },
          "metadata": {
            "tags": []
          },
          "execution_count": 13
        }
      ]
    },
    {
      "cell_type": "code",
      "metadata": {
        "id": "wOKUfEQMjRSm",
        "colab_type": "code",
        "colab": {}
      },
      "source": [
        "prime_nos(600851475143)"
      ],
      "execution_count": 0,
      "outputs": []
    },
    {
      "cell_type": "code",
      "metadata": {
        "id": "9z0Bnmugz7LZ",
        "colab_type": "code",
        "outputId": "91c19068-0a07-481e-d444-f0ce4f60438a",
        "colab": {
          "base_uri": "https://localhost:8080/",
          "height": 33
        }
      },
      "source": [
        "def maxPrimeFactors (n): \n",
        "    maxPrime = -1\n",
        "    while n % 2 == 0: \n",
        "        maxPrime = 2\n",
        "        n >>= 1             \n",
        "    for i in range(3, int(math.sqrt(n)) + 1, 2): \n",
        "        while n % i == 0: \n",
        "            maxPrime = i \n",
        "            n = n / i \n",
        "    if n > 2: \n",
        "        maxPrime = n \n",
        "    return int(maxPrime) \n",
        "\n",
        "  \n",
        "n = 600851475143\n",
        "print(maxPrimeFactors(n))"
      ],
      "execution_count": 0,
      "outputs": [
        {
          "output_type": "stream",
          "text": [
            "6857\n"
          ],
          "name": "stdout"
        }
      ]
    },
    {
      "cell_type": "code",
      "metadata": {
        "id": "GsMe2fXFjWUX",
        "colab_type": "code",
        "colab": {}
      },
      "source": [
        ""
      ],
      "execution_count": 0,
      "outputs": []
    }
  ]
}